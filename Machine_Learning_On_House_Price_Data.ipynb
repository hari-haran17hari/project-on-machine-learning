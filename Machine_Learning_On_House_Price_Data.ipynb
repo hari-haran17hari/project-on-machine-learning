{
  "cells": [
    {
      "cell_type": "markdown",
      "id": "6d35163b",
      "metadata": {
        "id": "6d35163b"
      },
      "source": [
        "# Machine Learning On House Price Data to Predict House Price"
      ]
    },
    {
      "cell_type": "raw",
      "id": "d32d1630",
      "metadata": {
        "id": "d32d1630"
      },
      "source": [
        "We are going to perform the modelling on house price dataset, in this we have multiple parameters who can help us to predict the price of that specific house."
      ]
    },
    {
      "cell_type": "markdown",
      "id": "29b3fea0",
      "metadata": {
        "id": "29b3fea0"
      },
      "source": [
        "## Import the required library"
      ]
    },
    {
      "cell_type": "code",
      "execution_count": null,
      "id": "0479d559",
      "metadata": {
        "id": "0479d559"
      },
      "outputs": [],
      "source": [
        "# import numerical python\n",
        "import numpy as np\n",
        "\n",
        "# import the pandas\n",
        "import pandas as pd\n",
        "\n",
        "# import the seaborn\n",
        "import seaborn as sns\n",
        "\n",
        "# import the matplotlib\n",
        "import matplotlib.pyplot as plt\n"
      ]
    },
    {
      "cell_type": "markdown",
      "id": "6c4af046",
      "metadata": {
        "id": "6c4af046"
      },
      "source": [
        "### Data Overview"
      ]
    },
    {
      "cell_type": "code",
      "execution_count": null,
      "id": "dce18f92",
      "metadata": {
        "id": "dce18f92"
      },
      "outputs": [],
      "source": [
        "# Load the data\n",
        "df_house_price=pd.read_csv('House_Price1.csv')"
      ]
    },
    {
      "cell_type": "code",
      "execution_count": null,
      "id": "e82e297b",
      "metadata": {
        "id": "e82e297b",
        "outputId": "cf97378f-a297-4c6f-85e7-172d5c765407"
      },
      "outputs": [
        {
          "data": {
            "text/html": [
              "<div>\n",
              "<style scoped>\n",
              "    .dataframe tbody tr th:only-of-type {\n",
              "        vertical-align: middle;\n",
              "    }\n",
              "\n",
              "    .dataframe tbody tr th {\n",
              "        vertical-align: top;\n",
              "    }\n",
              "\n",
              "    .dataframe thead th {\n",
              "        text-align: right;\n",
              "    }\n",
              "</style>\n",
              "<table border=\"1\" class=\"dataframe\">\n",
              "  <thead>\n",
              "    <tr style=\"text-align: right;\">\n",
              "      <th></th>\n",
              "      <th>price</th>\n",
              "      <th>resid_area</th>\n",
              "      <th>air_qual</th>\n",
              "      <th>room_num</th>\n",
              "      <th>age</th>\n",
              "      <th>distance</th>\n",
              "      <th>teachers</th>\n",
              "      <th>poor_prop</th>\n",
              "      <th>airport</th>\n",
              "      <th>n_hos_beds</th>\n",
              "      <th>n_hot_rooms</th>\n",
              "      <th>waterbody</th>\n",
              "      <th>rainfall</th>\n",
              "      <th>bus_ter</th>\n",
              "      <th>Sold</th>\n",
              "    </tr>\n",
              "  </thead>\n",
              "  <tbody>\n",
              "    <tr>\n",
              "      <th>0</th>\n",
              "      <td>24.0</td>\n",
              "      <td>32.31</td>\n",
              "      <td>0.538</td>\n",
              "      <td>6.575</td>\n",
              "      <td>65.2</td>\n",
              "      <td>4.35</td>\n",
              "      <td>24.7</td>\n",
              "      <td>4.98</td>\n",
              "      <td>YES</td>\n",
              "      <td>5.480</td>\n",
              "      <td>11.1920</td>\n",
              "      <td>River</td>\n",
              "      <td>23</td>\n",
              "      <td>YES</td>\n",
              "      <td>0</td>\n",
              "    </tr>\n",
              "    <tr>\n",
              "      <th>1</th>\n",
              "      <td>21.6</td>\n",
              "      <td>37.07</td>\n",
              "      <td>0.469</td>\n",
              "      <td>6.421</td>\n",
              "      <td>78.9</td>\n",
              "      <td>4.99</td>\n",
              "      <td>22.2</td>\n",
              "      <td>9.14</td>\n",
              "      <td>NO</td>\n",
              "      <td>7.332</td>\n",
              "      <td>12.1728</td>\n",
              "      <td>Lake</td>\n",
              "      <td>42</td>\n",
              "      <td>YES</td>\n",
              "      <td>1</td>\n",
              "    </tr>\n",
              "    <tr>\n",
              "      <th>2</th>\n",
              "      <td>34.7</td>\n",
              "      <td>37.07</td>\n",
              "      <td>0.469</td>\n",
              "      <td>7.185</td>\n",
              "      <td>61.1</td>\n",
              "      <td>5.03</td>\n",
              "      <td>22.2</td>\n",
              "      <td>4.03</td>\n",
              "      <td>NO</td>\n",
              "      <td>7.394</td>\n",
              "      <td>101.1200</td>\n",
              "      <td>NaN</td>\n",
              "      <td>38</td>\n",
              "      <td>YES</td>\n",
              "      <td>0</td>\n",
              "    </tr>\n",
              "    <tr>\n",
              "      <th>3</th>\n",
              "      <td>33.4</td>\n",
              "      <td>32.18</td>\n",
              "      <td>0.458</td>\n",
              "      <td>6.998</td>\n",
              "      <td>45.8</td>\n",
              "      <td>6.21</td>\n",
              "      <td>21.3</td>\n",
              "      <td>2.94</td>\n",
              "      <td>YES</td>\n",
              "      <td>9.268</td>\n",
              "      <td>11.2672</td>\n",
              "      <td>Lake</td>\n",
              "      <td>45</td>\n",
              "      <td>YES</td>\n",
              "      <td>0</td>\n",
              "    </tr>\n",
              "    <tr>\n",
              "      <th>4</th>\n",
              "      <td>36.2</td>\n",
              "      <td>32.18</td>\n",
              "      <td>0.458</td>\n",
              "      <td>7.147</td>\n",
              "      <td>54.2</td>\n",
              "      <td>6.16</td>\n",
              "      <td>21.3</td>\n",
              "      <td>5.33</td>\n",
              "      <td>NO</td>\n",
              "      <td>8.824</td>\n",
              "      <td>11.2896</td>\n",
              "      <td>Lake</td>\n",
              "      <td>55</td>\n",
              "      <td>YES</td>\n",
              "      <td>0</td>\n",
              "    </tr>\n",
              "  </tbody>\n",
              "</table>\n",
              "</div>"
            ],
            "text/plain": [
              "   price  resid_area  air_qual  room_num   age  distance  teachers  poor_prop  \\\n",
              "0   24.0       32.31     0.538     6.575  65.2      4.35      24.7       4.98   \n",
              "1   21.6       37.07     0.469     6.421  78.9      4.99      22.2       9.14   \n",
              "2   34.7       37.07     0.469     7.185  61.1      5.03      22.2       4.03   \n",
              "3   33.4       32.18     0.458     6.998  45.8      6.21      21.3       2.94   \n",
              "4   36.2       32.18     0.458     7.147  54.2      6.16      21.3       5.33   \n",
              "\n",
              "  airport  n_hos_beds  n_hot_rooms waterbody  rainfall bus_ter  Sold  \n",
              "0     YES       5.480      11.1920     River        23     YES     0  \n",
              "1      NO       7.332      12.1728      Lake        42     YES     1  \n",
              "2      NO       7.394     101.1200       NaN        38     YES     0  \n",
              "3     YES       9.268      11.2672      Lake        45     YES     0  \n",
              "4      NO       8.824      11.2896      Lake        55     YES     0  "
            ]
          },
          "execution_count": 3,
          "metadata": {},
          "output_type": "execute_result"
        }
      ],
      "source": [
        "# Show the first five observations of the data\n",
        "df_house_price.head()"
      ]
    },
    {
      "cell_type": "code",
      "execution_count": null,
      "id": "4bbfc68a",
      "metadata": {
        "id": "4bbfc68a",
        "outputId": "da8e5013-a039-4970-c1aa-632e9643180b"
      },
      "outputs": [
        {
          "data": {
            "text/html": [
              "<div>\n",
              "<style scoped>\n",
              "    .dataframe tbody tr th:only-of-type {\n",
              "        vertical-align: middle;\n",
              "    }\n",
              "\n",
              "    .dataframe tbody tr th {\n",
              "        vertical-align: top;\n",
              "    }\n",
              "\n",
              "    .dataframe thead th {\n",
              "        text-align: right;\n",
              "    }\n",
              "</style>\n",
              "<table border=\"1\" class=\"dataframe\">\n",
              "  <thead>\n",
              "    <tr style=\"text-align: right;\">\n",
              "      <th></th>\n",
              "      <th>price</th>\n",
              "      <th>resid_area</th>\n",
              "      <th>air_qual</th>\n",
              "      <th>room_num</th>\n",
              "      <th>age</th>\n",
              "      <th>distance</th>\n",
              "      <th>teachers</th>\n",
              "      <th>poor_prop</th>\n",
              "      <th>airport</th>\n",
              "      <th>n_hos_beds</th>\n",
              "      <th>n_hot_rooms</th>\n",
              "      <th>waterbody</th>\n",
              "      <th>rainfall</th>\n",
              "      <th>bus_ter</th>\n",
              "      <th>Sold</th>\n",
              "    </tr>\n",
              "  </thead>\n",
              "  <tbody>\n",
              "    <tr>\n",
              "      <th>501</th>\n",
              "      <td>22.4</td>\n",
              "      <td>41.93</td>\n",
              "      <td>0.573</td>\n",
              "      <td>6.593</td>\n",
              "      <td>69.1</td>\n",
              "      <td>2.64</td>\n",
              "      <td>19.0</td>\n",
              "      <td>9.67</td>\n",
              "      <td>NO</td>\n",
              "      <td>9.348</td>\n",
              "      <td>12.1792</td>\n",
              "      <td>Lake and River</td>\n",
              "      <td>27</td>\n",
              "      <td>YES</td>\n",
              "      <td>1</td>\n",
              "    </tr>\n",
              "    <tr>\n",
              "      <th>502</th>\n",
              "      <td>20.6</td>\n",
              "      <td>41.93</td>\n",
              "      <td>0.573</td>\n",
              "      <td>6.120</td>\n",
              "      <td>76.7</td>\n",
              "      <td>2.44</td>\n",
              "      <td>19.0</td>\n",
              "      <td>9.08</td>\n",
              "      <td>YES</td>\n",
              "      <td>6.612</td>\n",
              "      <td>13.1648</td>\n",
              "      <td>Lake and River</td>\n",
              "      <td>20</td>\n",
              "      <td>YES</td>\n",
              "      <td>1</td>\n",
              "    </tr>\n",
              "    <tr>\n",
              "      <th>503</th>\n",
              "      <td>23.9</td>\n",
              "      <td>41.93</td>\n",
              "      <td>0.573</td>\n",
              "      <td>6.976</td>\n",
              "      <td>91.0</td>\n",
              "      <td>2.34</td>\n",
              "      <td>19.0</td>\n",
              "      <td>5.64</td>\n",
              "      <td>NO</td>\n",
              "      <td>5.478</td>\n",
              "      <td>12.1912</td>\n",
              "      <td>NaN</td>\n",
              "      <td>31</td>\n",
              "      <td>YES</td>\n",
              "      <td>1</td>\n",
              "    </tr>\n",
              "    <tr>\n",
              "      <th>504</th>\n",
              "      <td>22.0</td>\n",
              "      <td>41.93</td>\n",
              "      <td>0.573</td>\n",
              "      <td>6.794</td>\n",
              "      <td>89.3</td>\n",
              "      <td>2.54</td>\n",
              "      <td>19.0</td>\n",
              "      <td>6.48</td>\n",
              "      <td>YES</td>\n",
              "      <td>7.940</td>\n",
              "      <td>15.1760</td>\n",
              "      <td>NaN</td>\n",
              "      <td>47</td>\n",
              "      <td>YES</td>\n",
              "      <td>1</td>\n",
              "    </tr>\n",
              "    <tr>\n",
              "      <th>505</th>\n",
              "      <td>19.0</td>\n",
              "      <td>41.93</td>\n",
              "      <td>0.573</td>\n",
              "      <td>6.030</td>\n",
              "      <td>80.8</td>\n",
              "      <td>2.72</td>\n",
              "      <td>19.0</td>\n",
              "      <td>7.88</td>\n",
              "      <td>YES</td>\n",
              "      <td>10.280</td>\n",
              "      <td>10.1520</td>\n",
              "      <td>NaN</td>\n",
              "      <td>45</td>\n",
              "      <td>YES</td>\n",
              "      <td>1</td>\n",
              "    </tr>\n",
              "  </tbody>\n",
              "</table>\n",
              "</div>"
            ],
            "text/plain": [
              "     price  resid_area  air_qual  room_num   age  distance  teachers  \\\n",
              "501   22.4       41.93     0.573     6.593  69.1      2.64      19.0   \n",
              "502   20.6       41.93     0.573     6.120  76.7      2.44      19.0   \n",
              "503   23.9       41.93     0.573     6.976  91.0      2.34      19.0   \n",
              "504   22.0       41.93     0.573     6.794  89.3      2.54      19.0   \n",
              "505   19.0       41.93     0.573     6.030  80.8      2.72      19.0   \n",
              "\n",
              "     poor_prop airport  n_hos_beds  n_hot_rooms       waterbody  rainfall  \\\n",
              "501       9.67      NO       9.348      12.1792  Lake and River        27   \n",
              "502       9.08     YES       6.612      13.1648  Lake and River        20   \n",
              "503       5.64      NO       5.478      12.1912             NaN        31   \n",
              "504       6.48     YES       7.940      15.1760             NaN        47   \n",
              "505       7.88     YES      10.280      10.1520             NaN        45   \n",
              "\n",
              "    bus_ter  Sold  \n",
              "501     YES     1  \n",
              "502     YES     1  \n",
              "503     YES     1  \n",
              "504     YES     1  \n",
              "505     YES     1  "
            ]
          },
          "execution_count": 4,
          "metadata": {},
          "output_type": "execute_result"
        }
      ],
      "source": [
        "# Show the last five observations of the data\n",
        "df_house_price.tail()"
      ]
    },
    {
      "cell_type": "code",
      "execution_count": null,
      "id": "45d0795b",
      "metadata": {
        "id": "45d0795b",
        "outputId": "a6b6b0f0-dd48-4177-e988-3bcba9ab65fc"
      },
      "outputs": [
        {
          "data": {
            "text/plain": [
              "(506, 15)"
            ]
          },
          "execution_count": 5,
          "metadata": {},
          "output_type": "execute_result"
        }
      ],
      "source": [
        "# Show the shape of the data\n",
        "df_house_price.shape"
      ]
    },
    {
      "cell_type": "code",
      "execution_count": null,
      "id": "f6179c7d",
      "metadata": {
        "id": "f6179c7d",
        "outputId": "5bea65fc-93df-4114-989f-3d2094639229"
      },
      "outputs": [
        {
          "data": {
            "text/html": [
              "<div>\n",
              "<style scoped>\n",
              "    .dataframe tbody tr th:only-of-type {\n",
              "        vertical-align: middle;\n",
              "    }\n",
              "\n",
              "    .dataframe tbody tr th {\n",
              "        vertical-align: top;\n",
              "    }\n",
              "\n",
              "    .dataframe thead th {\n",
              "        text-align: right;\n",
              "    }\n",
              "</style>\n",
              "<table border=\"1\" class=\"dataframe\">\n",
              "  <thead>\n",
              "    <tr style=\"text-align: right;\">\n",
              "      <th></th>\n",
              "      <th>price</th>\n",
              "      <th>resid_area</th>\n",
              "      <th>air_qual</th>\n",
              "      <th>room_num</th>\n",
              "      <th>age</th>\n",
              "      <th>distance</th>\n",
              "      <th>teachers</th>\n",
              "      <th>poor_prop</th>\n",
              "      <th>n_hos_beds</th>\n",
              "      <th>n_hot_rooms</th>\n",
              "      <th>rainfall</th>\n",
              "      <th>Sold</th>\n",
              "    </tr>\n",
              "  </thead>\n",
              "  <tbody>\n",
              "    <tr>\n",
              "      <th>count</th>\n",
              "      <td>506.000000</td>\n",
              "      <td>506.000000</td>\n",
              "      <td>506.000000</td>\n",
              "      <td>506.000000</td>\n",
              "      <td>506.000000</td>\n",
              "      <td>506.000000</td>\n",
              "      <td>506.000000</td>\n",
              "      <td>506.000000</td>\n",
              "      <td>498.000000</td>\n",
              "      <td>506.000000</td>\n",
              "      <td>506.000000</td>\n",
              "      <td>506.000000</td>\n",
              "    </tr>\n",
              "    <tr>\n",
              "      <th>mean</th>\n",
              "      <td>22.528854</td>\n",
              "      <td>41.136779</td>\n",
              "      <td>0.554695</td>\n",
              "      <td>6.284634</td>\n",
              "      <td>68.574901</td>\n",
              "      <td>3.971996</td>\n",
              "      <td>21.544466</td>\n",
              "      <td>12.653063</td>\n",
              "      <td>7.899767</td>\n",
              "      <td>13.041605</td>\n",
              "      <td>39.181818</td>\n",
              "      <td>0.454545</td>\n",
              "    </tr>\n",
              "    <tr>\n",
              "      <th>std</th>\n",
              "      <td>9.182176</td>\n",
              "      <td>6.860353</td>\n",
              "      <td>0.115878</td>\n",
              "      <td>0.702617</td>\n",
              "      <td>28.148861</td>\n",
              "      <td>2.108532</td>\n",
              "      <td>2.164946</td>\n",
              "      <td>7.141062</td>\n",
              "      <td>1.476683</td>\n",
              "      <td>5.238957</td>\n",
              "      <td>12.513697</td>\n",
              "      <td>0.498422</td>\n",
              "    </tr>\n",
              "    <tr>\n",
              "      <th>min</th>\n",
              "      <td>5.000000</td>\n",
              "      <td>30.460000</td>\n",
              "      <td>0.385000</td>\n",
              "      <td>3.561000</td>\n",
              "      <td>2.900000</td>\n",
              "      <td>1.130000</td>\n",
              "      <td>18.000000</td>\n",
              "      <td>1.730000</td>\n",
              "      <td>5.268000</td>\n",
              "      <td>10.057600</td>\n",
              "      <td>3.000000</td>\n",
              "      <td>0.000000</td>\n",
              "    </tr>\n",
              "    <tr>\n",
              "      <th>25%</th>\n",
              "      <td>17.025000</td>\n",
              "      <td>35.190000</td>\n",
              "      <td>0.449000</td>\n",
              "      <td>5.885500</td>\n",
              "      <td>45.025000</td>\n",
              "      <td>2.270000</td>\n",
              "      <td>19.800000</td>\n",
              "      <td>6.950000</td>\n",
              "      <td>6.634500</td>\n",
              "      <td>11.189800</td>\n",
              "      <td>28.000000</td>\n",
              "      <td>0.000000</td>\n",
              "    </tr>\n",
              "    <tr>\n",
              "      <th>50%</th>\n",
              "      <td>21.200000</td>\n",
              "      <td>39.690000</td>\n",
              "      <td>0.538000</td>\n",
              "      <td>6.208500</td>\n",
              "      <td>77.500000</td>\n",
              "      <td>3.385000</td>\n",
              "      <td>20.950000</td>\n",
              "      <td>11.360000</td>\n",
              "      <td>7.999000</td>\n",
              "      <td>12.720000</td>\n",
              "      <td>39.000000</td>\n",
              "      <td>0.000000</td>\n",
              "    </tr>\n",
              "    <tr>\n",
              "      <th>75%</th>\n",
              "      <td>25.000000</td>\n",
              "      <td>48.100000</td>\n",
              "      <td>0.624000</td>\n",
              "      <td>6.623500</td>\n",
              "      <td>94.075000</td>\n",
              "      <td>5.367500</td>\n",
              "      <td>22.600000</td>\n",
              "      <td>16.955000</td>\n",
              "      <td>9.088000</td>\n",
              "      <td>14.170800</td>\n",
              "      <td>50.000000</td>\n",
              "      <td>1.000000</td>\n",
              "    </tr>\n",
              "    <tr>\n",
              "      <th>max</th>\n",
              "      <td>50.000000</td>\n",
              "      <td>57.740000</td>\n",
              "      <td>0.871000</td>\n",
              "      <td>8.780000</td>\n",
              "      <td>100.000000</td>\n",
              "      <td>12.320000</td>\n",
              "      <td>27.400000</td>\n",
              "      <td>37.970000</td>\n",
              "      <td>10.876000</td>\n",
              "      <td>101.120000</td>\n",
              "      <td>60.000000</td>\n",
              "      <td>1.000000</td>\n",
              "    </tr>\n",
              "  </tbody>\n",
              "</table>\n",
              "</div>"
            ],
            "text/plain": [
              "            price  resid_area    air_qual    room_num         age    distance  \\\n",
              "count  506.000000  506.000000  506.000000  506.000000  506.000000  506.000000   \n",
              "mean    22.528854   41.136779    0.554695    6.284634   68.574901    3.971996   \n",
              "std      9.182176    6.860353    0.115878    0.702617   28.148861    2.108532   \n",
              "min      5.000000   30.460000    0.385000    3.561000    2.900000    1.130000   \n",
              "25%     17.025000   35.190000    0.449000    5.885500   45.025000    2.270000   \n",
              "50%     21.200000   39.690000    0.538000    6.208500   77.500000    3.385000   \n",
              "75%     25.000000   48.100000    0.624000    6.623500   94.075000    5.367500   \n",
              "max     50.000000   57.740000    0.871000    8.780000  100.000000   12.320000   \n",
              "\n",
              "         teachers   poor_prop  n_hos_beds  n_hot_rooms    rainfall        Sold  \n",
              "count  506.000000  506.000000  498.000000   506.000000  506.000000  506.000000  \n",
              "mean    21.544466   12.653063    7.899767    13.041605   39.181818    0.454545  \n",
              "std      2.164946    7.141062    1.476683     5.238957   12.513697    0.498422  \n",
              "min     18.000000    1.730000    5.268000    10.057600    3.000000    0.000000  \n",
              "25%     19.800000    6.950000    6.634500    11.189800   28.000000    0.000000  \n",
              "50%     20.950000   11.360000    7.999000    12.720000   39.000000    0.000000  \n",
              "75%     22.600000   16.955000    9.088000    14.170800   50.000000    1.000000  \n",
              "max     27.400000   37.970000   10.876000   101.120000   60.000000    1.000000  "
            ]
          },
          "execution_count": 6,
          "metadata": {},
          "output_type": "execute_result"
        }
      ],
      "source": [
        "# Show the basic statistics of the data\n",
        "df_house_price.describe()"
      ]
    },
    {
      "cell_type": "code",
      "execution_count": null,
      "id": "b4d1892a",
      "metadata": {
        "id": "b4d1892a",
        "outputId": "0525a760-bf0f-4364-a92a-c23d8419f46f"
      },
      "outputs": [
        {
          "name": "stdout",
          "output_type": "stream",
          "text": [
            "<class 'pandas.core.frame.DataFrame'>\n",
            "RangeIndex: 506 entries, 0 to 505\n",
            "Data columns (total 15 columns):\n",
            " #   Column       Non-Null Count  Dtype  \n",
            "---  ------       --------------  -----  \n",
            " 0   price        506 non-null    float64\n",
            " 1   resid_area   506 non-null    float64\n",
            " 2   air_qual     506 non-null    float64\n",
            " 3   room_num     506 non-null    float64\n",
            " 4   age          506 non-null    float64\n",
            " 5   distance     506 non-null    float64\n",
            " 6   teachers     506 non-null    float64\n",
            " 7   poor_prop    506 non-null    float64\n",
            " 8   airport      506 non-null    object \n",
            " 9   n_hos_beds   498 non-null    float64\n",
            " 10  n_hot_rooms  506 non-null    float64\n",
            " 11  waterbody    351 non-null    object \n",
            " 12  rainfall     506 non-null    int64  \n",
            " 13  bus_ter      506 non-null    object \n",
            " 14  Sold         506 non-null    int64  \n",
            "dtypes: float64(10), int64(2), object(3)\n",
            "memory usage: 59.4+ KB\n"
          ]
        }
      ],
      "source": [
        "# Show the basic informations of the data\n",
        "df_house_price.info()"
      ]
    },
    {
      "cell_type": "raw",
      "id": "758afa93",
      "metadata": {
        "id": "758afa93"
      },
      "source": [
        "# Interpretation\n",
        "\n",
        " - we have 506 observations and 15 attributes\n",
        " - we have age column which contain the outlier"
      ]
    },
    {
      "cell_type": "markdown",
      "id": "01301dc1",
      "metadata": {
        "id": "01301dc1"
      },
      "source": [
        "## Data Pre-Processing"
      ]
    },
    {
      "cell_type": "code",
      "execution_count": null,
      "id": "4fcb3dcf",
      "metadata": {
        "id": "4fcb3dcf",
        "outputId": "a3ce28cb-32a0-4565-b12f-6a3c6918467a"
      },
      "outputs": [
        {
          "data": {
            "text/plain": [
              "Index(['price', 'resid_area', 'air_qual', 'room_num', 'age', 'distance',\n",
              "       'teachers', 'poor_prop', 'airport', 'n_hos_beds', 'n_hot_rooms',\n",
              "       'waterbody', 'rainfall', 'bus_ter', 'Sold'],\n",
              "      dtype='object')"
            ]
          },
          "execution_count": 8,
          "metadata": {},
          "output_type": "execute_result"
        }
      ],
      "source": [
        "# lets perform the data cleaning\n",
        "df_house_price.columns"
      ]
    },
    {
      "cell_type": "code",
      "execution_count": null,
      "id": "bdd967de",
      "metadata": {
        "id": "bdd967de"
      },
      "outputs": [],
      "source": [
        "dictionary={\n",
        "    'price':'Price',\n",
        "    'resid_area':'Residential_Area',\n",
        "    'air_qual':'Air_Quality',\n",
        "    'room_num':'Room_Number',\n",
        "    'age':'Age',\n",
        "    'distance':'Distance',\n",
        "    'teachers':'Teachers',\n",
        "    'poor_prop':'Poor_Property',\n",
        "    'airport':'Airport',\n",
        "    'n_hos_beds':'N_Hospital_Beds',\n",
        "    'n_hot_rooms':'N_Hotel_Rooms',\n",
        "    'waterbody':'Waterbody',\n",
        "    'rainfall':'Rainfall',\n",
        "    'bus_ter':'Bus_Ter',\n",
        "    'Sold':'Sold'\n",
        "}"
      ]
    },
    {
      "cell_type": "code",
      "execution_count": null,
      "id": "32a9c21f",
      "metadata": {
        "id": "32a9c21f"
      },
      "outputs": [],
      "source": [
        "# perform the rename action\n",
        "df_house_price = df_house_price.rename(columns=dictionary)"
      ]
    },
    {
      "cell_type": "code",
      "execution_count": null,
      "id": "effcc07e",
      "metadata": {
        "id": "effcc07e",
        "outputId": "841a348a-8019-4e48-a1c9-d2671d30709d"
      },
      "outputs": [
        {
          "data": {
            "text/plain": [
              "Index(['Price', 'Residential_Area', 'Air_Quality', 'Room_Number', 'Age',\n",
              "       'Distance', 'Teachers', 'Poor_Property', 'Airport', 'N_Hospital_Beds',\n",
              "       'N_Hotel_Rooms', 'Waterbody', 'Rainfall', 'Bus_Ter', 'Sold'],\n",
              "      dtype='object')"
            ]
          },
          "execution_count": 11,
          "metadata": {},
          "output_type": "execute_result"
        }
      ],
      "source": [
        "# Do the authentic check\n",
        "df_house_price.columns"
      ]
    },
    {
      "cell_type": "markdown",
      "id": "7fd1902e",
      "metadata": {
        "id": "7fd1902e"
      },
      "source": [
        "### Null value Handling\n"
      ]
    },
    {
      "cell_type": "code",
      "execution_count": null,
      "id": "4ab1f924",
      "metadata": {
        "id": "4ab1f924",
        "outputId": "efea29ba-9d8c-4e42-cd06-feaf37c0b566"
      },
      "outputs": [
        {
          "data": {
            "text/plain": [
              "Price                 0\n",
              "Residential_Area      0\n",
              "Air_Quality           0\n",
              "Room_Number           0\n",
              "Age                   0\n",
              "Distance              0\n",
              "Teachers              0\n",
              "Poor_Property         0\n",
              "Airport               0\n",
              "N_Hospital_Beds       8\n",
              "N_Hotel_Rooms         0\n",
              "Waterbody           155\n",
              "Rainfall              0\n",
              "Bus_Ter               0\n",
              "Sold                  0\n",
              "dtype: int64"
            ]
          },
          "execution_count": 12,
          "metadata": {},
          "output_type": "execute_result"
        }
      ],
      "source": [
        "# Find the Number of missing records\n",
        "df_house_price.isnull().sum()"
      ]
    },
    {
      "cell_type": "code",
      "execution_count": null,
      "id": "61303c85",
      "metadata": {
        "id": "61303c85",
        "outputId": "fcfcc802-d3a9-4875-eee4-99ba5e5e434a"
      },
      "outputs": [
        {
          "data": {
            "text/plain": [
              "Price                0.000000\n",
              "Residential_Area     0.000000\n",
              "Air_Quality          0.000000\n",
              "Room_Number          0.000000\n",
              "Age                  0.000000\n",
              "Distance             0.000000\n",
              "Teachers             0.000000\n",
              "Poor_Property        0.000000\n",
              "Airport              0.000000\n",
              "N_Hospital_Beds      1.581028\n",
              "N_Hotel_Rooms        0.000000\n",
              "Waterbody           30.632411\n",
              "Rainfall             0.000000\n",
              "Bus_Ter              0.000000\n",
              "Sold                 0.000000\n",
              "dtype: float64"
            ]
          },
          "execution_count": 13,
          "metadata": {},
          "output_type": "execute_result"
        }
      ],
      "source": [
        "# Find the percentage\n",
        "df_house_price.isnull().sum()/len(df_house_price)*100"
      ]
    },
    {
      "cell_type": "code",
      "execution_count": null,
      "id": "4fe5c4ae",
      "metadata": {
        "id": "4fe5c4ae",
        "outputId": "36134716-7f29-49f0-f232-fd374eabe015"
      },
      "outputs": [
        {
          "data": {
            "text/plain": [
              "0    River\n",
              "Name: Waterbody, dtype: object"
            ]
          },
          "execution_count": 14,
          "metadata": {},
          "output_type": "execute_result"
        }
      ],
      "source": [
        "# Find the mode of waterbody column\n",
        "df_house_price.Waterbody.mode()"
      ]
    },
    {
      "cell_type": "code",
      "execution_count": null,
      "id": "78e2b759",
      "metadata": {
        "id": "78e2b759"
      },
      "outputs": [],
      "source": [
        "# lets treat the null values in waterbody column\n",
        "df_house_price.Waterbody.fillna('River',inplace = True)"
      ]
    },
    {
      "cell_type": "code",
      "execution_count": null,
      "id": "f63a1e5e",
      "metadata": {
        "id": "f63a1e5e",
        "outputId": "8c01ba59-f855-45e2-d77f-ed2f14b93790"
      },
      "outputs": [
        {
          "data": {
            "text/plain": [
              "Price               0\n",
              "Residential_Area    0\n",
              "Air_Quality         0\n",
              "Room_Number         0\n",
              "Age                 0\n",
              "Distance            0\n",
              "Teachers            0\n",
              "Poor_Property       0\n",
              "Airport             0\n",
              "N_Hospital_Beds     8\n",
              "N_Hotel_Rooms       0\n",
              "Waterbody           0\n",
              "Rainfall            0\n",
              "Bus_Ter             0\n",
              "Sold                0\n",
              "dtype: int64"
            ]
          },
          "execution_count": 16,
          "metadata": {},
          "output_type": "execute_result"
        }
      ],
      "source": [
        "# Do the authentic check\n",
        "df_house_price.isnull().sum()"
      ]
    },
    {
      "cell_type": "code",
      "execution_count": null,
      "id": "aeec40aa",
      "metadata": {
        "id": "aeec40aa"
      },
      "outputs": [],
      "source": [
        "# In N_Hospital_Beds, we have less than 10% of data is missing\n",
        "df_house_price.dropna(inplace=True)"
      ]
    },
    {
      "cell_type": "code",
      "execution_count": null,
      "id": "d5aef660",
      "metadata": {
        "id": "d5aef660",
        "outputId": "f97a4ec6-6035-441a-f91d-4eec3c70ffa0"
      },
      "outputs": [
        {
          "data": {
            "text/plain": [
              "Price               0\n",
              "Residential_Area    0\n",
              "Air_Quality         0\n",
              "Room_Number         0\n",
              "Age                 0\n",
              "Distance            0\n",
              "Teachers            0\n",
              "Poor_Property       0\n",
              "Airport             0\n",
              "N_Hospital_Beds     0\n",
              "N_Hotel_Rooms       0\n",
              "Waterbody           0\n",
              "Rainfall            0\n",
              "Bus_Ter             0\n",
              "Sold                0\n",
              "dtype: int64"
            ]
          },
          "execution_count": 18,
          "metadata": {},
          "output_type": "execute_result"
        }
      ],
      "source": [
        "# Do the authentic check\n",
        "df_house_price.isnull().sum()"
      ]
    },
    {
      "cell_type": "code",
      "execution_count": null,
      "id": "c7cfb759",
      "metadata": {
        "id": "c7cfb759"
      },
      "outputs": [],
      "source": [
        "# store the target variable 'Chance of Admit' in a dataframe 'df_target'\n",
        "df_target = df_house_price['Price']\n",
        "\n",
        "# store all the independent variables in a dataframe 'df_feature'\n",
        "# drop the column 'Chance of Admit' using drop()\n",
        "# 'axis = 1' drops the specified column\n",
        "df_feature = df_house_price.drop('Price', axis = 1)"
      ]
    },
    {
      "cell_type": "code",
      "execution_count": null,
      "id": "04f4e91b",
      "metadata": {
        "id": "04f4e91b"
      },
      "outputs": [],
      "source": [
        "# Segregate the data based on the datatype\n",
        "df_num = df_house_price.select_dtypes(include='number')\n",
        "df_cat = df_house_price.select_dtypes(include='object')"
      ]
    },
    {
      "cell_type": "code",
      "execution_count": null,
      "id": "feef0ce1",
      "metadata": {
        "id": "feef0ce1",
        "outputId": "d1d2c050-567a-429d-dacb-d9c2c7b3de30"
      },
      "outputs": [
        {
          "data": {
            "text/html": [
              "<div>\n",
              "<style scoped>\n",
              "    .dataframe tbody tr th:only-of-type {\n",
              "        vertical-align: middle;\n",
              "    }\n",
              "\n",
              "    .dataframe tbody tr th {\n",
              "        vertical-align: top;\n",
              "    }\n",
              "\n",
              "    .dataframe thead th {\n",
              "        text-align: right;\n",
              "    }\n",
              "</style>\n",
              "<table border=\"1\" class=\"dataframe\">\n",
              "  <thead>\n",
              "    <tr style=\"text-align: right;\">\n",
              "      <th></th>\n",
              "      <th>Price</th>\n",
              "      <th>Residential_Area</th>\n",
              "      <th>Air_Quality</th>\n",
              "      <th>Room_Number</th>\n",
              "      <th>Age</th>\n",
              "      <th>Distance</th>\n",
              "      <th>Teachers</th>\n",
              "      <th>Poor_Property</th>\n",
              "      <th>N_Hospital_Beds</th>\n",
              "      <th>N_Hotel_Rooms</th>\n",
              "      <th>Rainfall</th>\n",
              "      <th>Sold</th>\n",
              "    </tr>\n",
              "  </thead>\n",
              "  <tbody>\n",
              "    <tr>\n",
              "      <th>0</th>\n",
              "      <td>24.0</td>\n",
              "      <td>32.31</td>\n",
              "      <td>0.538</td>\n",
              "      <td>6.575</td>\n",
              "      <td>65.2</td>\n",
              "      <td>4.35</td>\n",
              "      <td>24.7</td>\n",
              "      <td>4.98</td>\n",
              "      <td>5.480</td>\n",
              "      <td>11.1920</td>\n",
              "      <td>23</td>\n",
              "      <td>0</td>\n",
              "    </tr>\n",
              "    <tr>\n",
              "      <th>1</th>\n",
              "      <td>21.6</td>\n",
              "      <td>37.07</td>\n",
              "      <td>0.469</td>\n",
              "      <td>6.421</td>\n",
              "      <td>78.9</td>\n",
              "      <td>4.99</td>\n",
              "      <td>22.2</td>\n",
              "      <td>9.14</td>\n",
              "      <td>7.332</td>\n",
              "      <td>12.1728</td>\n",
              "      <td>42</td>\n",
              "      <td>1</td>\n",
              "    </tr>\n",
              "    <tr>\n",
              "      <th>2</th>\n",
              "      <td>34.7</td>\n",
              "      <td>37.07</td>\n",
              "      <td>0.469</td>\n",
              "      <td>7.185</td>\n",
              "      <td>61.1</td>\n",
              "      <td>5.03</td>\n",
              "      <td>22.2</td>\n",
              "      <td>4.03</td>\n",
              "      <td>7.394</td>\n",
              "      <td>101.1200</td>\n",
              "      <td>38</td>\n",
              "      <td>0</td>\n",
              "    </tr>\n",
              "    <tr>\n",
              "      <th>3</th>\n",
              "      <td>33.4</td>\n",
              "      <td>32.18</td>\n",
              "      <td>0.458</td>\n",
              "      <td>6.998</td>\n",
              "      <td>45.8</td>\n",
              "      <td>6.21</td>\n",
              "      <td>21.3</td>\n",
              "      <td>2.94</td>\n",
              "      <td>9.268</td>\n",
              "      <td>11.2672</td>\n",
              "      <td>45</td>\n",
              "      <td>0</td>\n",
              "    </tr>\n",
              "    <tr>\n",
              "      <th>4</th>\n",
              "      <td>36.2</td>\n",
              "      <td>32.18</td>\n",
              "      <td>0.458</td>\n",
              "      <td>7.147</td>\n",
              "      <td>54.2</td>\n",
              "      <td>6.16</td>\n",
              "      <td>21.3</td>\n",
              "      <td>5.33</td>\n",
              "      <td>8.824</td>\n",
              "      <td>11.2896</td>\n",
              "      <td>55</td>\n",
              "      <td>0</td>\n",
              "    </tr>\n",
              "  </tbody>\n",
              "</table>\n",
              "</div>"
            ],
            "text/plain": [
              "   Price  Residential_Area  Air_Quality  Room_Number   Age  Distance  \\\n",
              "0   24.0             32.31        0.538        6.575  65.2      4.35   \n",
              "1   21.6             37.07        0.469        6.421  78.9      4.99   \n",
              "2   34.7             37.07        0.469        7.185  61.1      5.03   \n",
              "3   33.4             32.18        0.458        6.998  45.8      6.21   \n",
              "4   36.2             32.18        0.458        7.147  54.2      6.16   \n",
              "\n",
              "   Teachers  Poor_Property  N_Hospital_Beds  N_Hotel_Rooms  Rainfall  Sold  \n",
              "0      24.7           4.98            5.480        11.1920        23     0  \n",
              "1      22.2           9.14            7.332        12.1728        42     1  \n",
              "2      22.2           4.03            7.394       101.1200        38     0  \n",
              "3      21.3           2.94            9.268        11.2672        45     0  \n",
              "4      21.3           5.33            8.824        11.2896        55     0  "
            ]
          },
          "execution_count": 21,
          "metadata": {},
          "output_type": "execute_result"
        }
      ],
      "source": [
        "# Show the Numerical data\n",
        "df_num.head()"
      ]
    },
    {
      "cell_type": "code",
      "execution_count": null,
      "id": "2e719d4c",
      "metadata": {
        "id": "2e719d4c",
        "outputId": "3a4bcda8-d790-4fe7-d6ea-1b493224ce1d"
      },
      "outputs": [
        {
          "data": {
            "text/html": [
              "<div>\n",
              "<style scoped>\n",
              "    .dataframe tbody tr th:only-of-type {\n",
              "        vertical-align: middle;\n",
              "    }\n",
              "\n",
              "    .dataframe tbody tr th {\n",
              "        vertical-align: top;\n",
              "    }\n",
              "\n",
              "    .dataframe thead th {\n",
              "        text-align: right;\n",
              "    }\n",
              "</style>\n",
              "<table border=\"1\" class=\"dataframe\">\n",
              "  <thead>\n",
              "    <tr style=\"text-align: right;\">\n",
              "      <th></th>\n",
              "      <th>Airport</th>\n",
              "      <th>Waterbody</th>\n",
              "      <th>Bus_Ter</th>\n",
              "    </tr>\n",
              "  </thead>\n",
              "  <tbody>\n",
              "    <tr>\n",
              "      <th>0</th>\n",
              "      <td>YES</td>\n",
              "      <td>River</td>\n",
              "      <td>YES</td>\n",
              "    </tr>\n",
              "    <tr>\n",
              "      <th>1</th>\n",
              "      <td>NO</td>\n",
              "      <td>Lake</td>\n",
              "      <td>YES</td>\n",
              "    </tr>\n",
              "    <tr>\n",
              "      <th>2</th>\n",
              "      <td>NO</td>\n",
              "      <td>River</td>\n",
              "      <td>YES</td>\n",
              "    </tr>\n",
              "    <tr>\n",
              "      <th>3</th>\n",
              "      <td>YES</td>\n",
              "      <td>Lake</td>\n",
              "      <td>YES</td>\n",
              "    </tr>\n",
              "    <tr>\n",
              "      <th>4</th>\n",
              "      <td>NO</td>\n",
              "      <td>Lake</td>\n",
              "      <td>YES</td>\n",
              "    </tr>\n",
              "  </tbody>\n",
              "</table>\n",
              "</div>"
            ],
            "text/plain": [
              "  Airport Waterbody Bus_Ter\n",
              "0     YES     River     YES\n",
              "1      NO      Lake     YES\n",
              "2      NO     River     YES\n",
              "3     YES      Lake     YES\n",
              "4      NO      Lake     YES"
            ]
          },
          "execution_count": 22,
          "metadata": {},
          "output_type": "execute_result"
        }
      ],
      "source": [
        "# Show the categorical data\n",
        "df_cat.head()"
      ]
    },
    {
      "cell_type": "markdown",
      "id": "f4ac1cb9",
      "metadata": {
        "id": "f4ac1cb9"
      },
      "source": [
        "### Perform Encoding on categorical variable"
      ]
    },
    {
      "cell_type": "code",
      "execution_count": null,
      "id": "c97547e6",
      "metadata": {
        "id": "c97547e6"
      },
      "outputs": [],
      "source": [
        "# Use Dummy encoding\n",
        "df_encoded = pd.get_dummies(df_cat)\n",
        "# Reset the index\n",
        "df_encoded = df_encoded.reset_index()"
      ]
    },
    {
      "cell_type": "code",
      "execution_count": null,
      "id": "1004a468",
      "metadata": {
        "id": "1004a468",
        "outputId": "085ab732-d98e-452f-aca5-26d0fa85650f"
      },
      "outputs": [
        {
          "data": {
            "text/html": [
              "<div>\n",
              "<style scoped>\n",
              "    .dataframe tbody tr th:only-of-type {\n",
              "        vertical-align: middle;\n",
              "    }\n",
              "\n",
              "    .dataframe tbody tr th {\n",
              "        vertical-align: top;\n",
              "    }\n",
              "\n",
              "    .dataframe thead th {\n",
              "        text-align: right;\n",
              "    }\n",
              "</style>\n",
              "<table border=\"1\" class=\"dataframe\">\n",
              "  <thead>\n",
              "    <tr style=\"text-align: right;\">\n",
              "      <th></th>\n",
              "      <th>index</th>\n",
              "      <th>Airport_NO</th>\n",
              "      <th>Airport_YES</th>\n",
              "      <th>Waterbody_Lake</th>\n",
              "      <th>Waterbody_Lake and River</th>\n",
              "      <th>Waterbody_River</th>\n",
              "      <th>Bus_Ter_YES</th>\n",
              "    </tr>\n",
              "  </thead>\n",
              "  <tbody>\n",
              "    <tr>\n",
              "      <th>0</th>\n",
              "      <td>0</td>\n",
              "      <td>False</td>\n",
              "      <td>True</td>\n",
              "      <td>False</td>\n",
              "      <td>False</td>\n",
              "      <td>True</td>\n",
              "      <td>True</td>\n",
              "    </tr>\n",
              "    <tr>\n",
              "      <th>1</th>\n",
              "      <td>1</td>\n",
              "      <td>True</td>\n",
              "      <td>False</td>\n",
              "      <td>True</td>\n",
              "      <td>False</td>\n",
              "      <td>False</td>\n",
              "      <td>True</td>\n",
              "    </tr>\n",
              "    <tr>\n",
              "      <th>2</th>\n",
              "      <td>2</td>\n",
              "      <td>True</td>\n",
              "      <td>False</td>\n",
              "      <td>False</td>\n",
              "      <td>False</td>\n",
              "      <td>True</td>\n",
              "      <td>True</td>\n",
              "    </tr>\n",
              "    <tr>\n",
              "      <th>3</th>\n",
              "      <td>3</td>\n",
              "      <td>False</td>\n",
              "      <td>True</td>\n",
              "      <td>True</td>\n",
              "      <td>False</td>\n",
              "      <td>False</td>\n",
              "      <td>True</td>\n",
              "    </tr>\n",
              "    <tr>\n",
              "      <th>4</th>\n",
              "      <td>4</td>\n",
              "      <td>True</td>\n",
              "      <td>False</td>\n",
              "      <td>True</td>\n",
              "      <td>False</td>\n",
              "      <td>False</td>\n",
              "      <td>True</td>\n",
              "    </tr>\n",
              "  </tbody>\n",
              "</table>\n",
              "</div>"
            ],
            "text/plain": [
              "   index  Airport_NO  Airport_YES  Waterbody_Lake  Waterbody_Lake and River  \\\n",
              "0      0       False         True           False                     False   \n",
              "1      1        True        False            True                     False   \n",
              "2      2        True        False           False                     False   \n",
              "3      3       False         True            True                     False   \n",
              "4      4        True        False            True                     False   \n",
              "\n",
              "   Waterbody_River  Bus_Ter_YES  \n",
              "0             True         True  \n",
              "1            False         True  \n",
              "2             True         True  \n",
              "3            False         True  \n",
              "4            False         True  "
            ]
          },
          "execution_count": 24,
          "metadata": {},
          "output_type": "execute_result"
        }
      ],
      "source": [
        "# Show the encoded data\n",
        "df_encoded.head()"
      ]
    },
    {
      "cell_type": "markdown",
      "id": "5cebad20",
      "metadata": {
        "id": "5cebad20"
      },
      "source": [
        "### Perform Scaling on Numerical data"
      ]
    },
    {
      "cell_type": "code",
      "execution_count": null,
      "id": "1c0a604c",
      "metadata": {
        "id": "1c0a604c"
      },
      "outputs": [],
      "source": [
        "# import the standard scaler\n",
        "from sklearn.preprocessing import StandardScaler\n",
        "\n",
        "# initiate the standard scaler\n",
        "ss = StandardScaler()"
      ]
    },
    {
      "cell_type": "code",
      "execution_count": null,
      "id": "c0044b80",
      "metadata": {
        "id": "c0044b80"
      },
      "outputs": [],
      "source": [
        "# Scaled the value present in Numerical dataframe\n",
        "scaled = ss.fit_transform(df_num)"
      ]
    },
    {
      "cell_type": "code",
      "execution_count": null,
      "id": "78c4b1c8",
      "metadata": {
        "id": "78c4b1c8",
        "outputId": "9150455d-d36b-4da5-a528-e330a19996d0"
      },
      "outputs": [
        {
          "data": {
            "text/plain": [
              "array([[ 0.15479189, -1.28244435, -0.13709359, ..., -0.35211111,\n",
              "        -1.30206786, -0.91152748],\n",
              "       [-0.10659165, -0.59005882, -0.73319492, ..., -0.16601943,\n",
              "         0.21519397,  1.09705963],\n",
              "       [ 1.32012686, -0.59005882, -0.73319492, ..., 16.71034024,\n",
              "        -0.10422957, -0.91152748],\n",
              "       ...,\n",
              "       [ 0.14390091,  0.11687263,  0.16527665, ..., -0.16252832,\n",
              "        -0.66322077,  1.09705963],\n",
              "       [-0.06302773,  0.11687263,  0.16527665, ...,  0.40379146,\n",
              "         0.6144734 ,  1.09705963],\n",
              "       [-0.38975716,  0.11687263,  0.16527665, ..., -0.54943507,\n",
              "         0.45476163,  1.09705963]])"
            ]
          },
          "execution_count": 36,
          "metadata": {},
          "output_type": "execute_result"
        }
      ],
      "source": [
        "scaled"
      ]
    },
    {
      "cell_type": "code",
      "execution_count": null,
      "id": "6cd92fcf",
      "metadata": {
        "id": "6cd92fcf"
      },
      "outputs": [],
      "source": [
        "# Numerate the data into the dataframe\n",
        "scaled_df = pd.DataFrame(scaled,columns=df_num.columns)"
      ]
    },
    {
      "cell_type": "code",
      "execution_count": null,
      "id": "d47823d4",
      "metadata": {
        "id": "d47823d4"
      },
      "outputs": [],
      "source": [
        "# Reset the Index\n",
        "scaled_df = scaled_df.reset_index()"
      ]
    },
    {
      "cell_type": "code",
      "execution_count": null,
      "id": "c3012ec5",
      "metadata": {
        "id": "c3012ec5",
        "outputId": "b22af1e5-275f-47fc-9a92-73e32c0d9bb2"
      },
      "outputs": [
        {
          "data": {
            "text/html": [
              "<div>\n",
              "<style scoped>\n",
              "    .dataframe tbody tr th:only-of-type {\n",
              "        vertical-align: middle;\n",
              "    }\n",
              "\n",
              "    .dataframe tbody tr th {\n",
              "        vertical-align: top;\n",
              "    }\n",
              "\n",
              "    .dataframe thead th {\n",
              "        text-align: right;\n",
              "    }\n",
              "</style>\n",
              "<table border=\"1\" class=\"dataframe\">\n",
              "  <thead>\n",
              "    <tr style=\"text-align: right;\">\n",
              "      <th></th>\n",
              "      <th>level_0</th>\n",
              "      <th>index</th>\n",
              "      <th>Price</th>\n",
              "      <th>Residential_Area</th>\n",
              "      <th>Air_Quality</th>\n",
              "      <th>Room_Number</th>\n",
              "      <th>Age</th>\n",
              "      <th>Distance</th>\n",
              "      <th>Teachers</th>\n",
              "      <th>Poor_Property</th>\n",
              "      <th>N_Hospital_Beds</th>\n",
              "      <th>N_Hotel_Rooms</th>\n",
              "      <th>Rainfall</th>\n",
              "      <th>Sold</th>\n",
              "    </tr>\n",
              "  </thead>\n",
              "  <tbody>\n",
              "    <tr>\n",
              "      <th>0</th>\n",
              "      <td>0</td>\n",
              "      <td>0</td>\n",
              "      <td>0.154792</td>\n",
              "      <td>-1.282444</td>\n",
              "      <td>-0.137094</td>\n",
              "      <td>0.408975</td>\n",
              "      <td>-0.115644</td>\n",
              "      <td>0.172845</td>\n",
              "      <td>1.462167</td>\n",
              "      <td>-1.066368</td>\n",
              "      <td>-1.640299</td>\n",
              "      <td>-0.352111</td>\n",
              "      <td>-1.302068</td>\n",
              "      <td>-0.911527</td>\n",
              "    </tr>\n",
              "    <tr>\n",
              "      <th>1</th>\n",
              "      <td>1</td>\n",
              "      <td>1</td>\n",
              "      <td>-0.106592</td>\n",
              "      <td>-0.590059</td>\n",
              "      <td>-0.733195</td>\n",
              "      <td>0.189974</td>\n",
              "      <td>0.369741</td>\n",
              "      <td>0.476100</td>\n",
              "      <td>0.304963</td>\n",
              "      <td>-0.484136</td>\n",
              "      <td>-0.384875</td>\n",
              "      <td>-0.166019</td>\n",
              "      <td>0.215194</td>\n",
              "      <td>1.097060</td>\n",
              "    </tr>\n",
              "    <tr>\n",
              "      <th>2</th>\n",
              "      <td>2</td>\n",
              "      <td>2</td>\n",
              "      <td>1.320127</td>\n",
              "      <td>-0.590059</td>\n",
              "      <td>-0.733195</td>\n",
              "      <td>1.276446</td>\n",
              "      <td>-0.260905</td>\n",
              "      <td>0.495053</td>\n",
              "      <td>0.304963</td>\n",
              "      <td>-1.199330</td>\n",
              "      <td>-0.342847</td>\n",
              "      <td>16.710340</td>\n",
              "      <td>-0.104230</td>\n",
              "      <td>-0.911527</td>\n",
              "    </tr>\n",
              "    <tr>\n",
              "      <th>3</th>\n",
              "      <td>3</td>\n",
              "      <td>3</td>\n",
              "      <td>1.178544</td>\n",
              "      <td>-1.301354</td>\n",
              "      <td>-0.828226</td>\n",
              "      <td>1.010516</td>\n",
              "      <td>-0.802977</td>\n",
              "      <td>1.054179</td>\n",
              "      <td>-0.111631</td>\n",
              "      <td>-1.351886</td>\n",
              "      <td>0.927490</td>\n",
              "      <td>-0.337843</td>\n",
              "      <td>0.454762</td>\n",
              "      <td>-0.911527</td>\n",
              "    </tr>\n",
              "    <tr>\n",
              "      <th>4</th>\n",
              "      <td>4</td>\n",
              "      <td>4</td>\n",
              "      <td>1.483492</td>\n",
              "      <td>-1.301354</td>\n",
              "      <td>-0.828226</td>\n",
              "      <td>1.222407</td>\n",
              "      <td>-0.505369</td>\n",
              "      <td>1.030487</td>\n",
              "      <td>-0.111631</td>\n",
              "      <td>-1.017382</td>\n",
              "      <td>0.626514</td>\n",
              "      <td>-0.333593</td>\n",
              "      <td>1.253320</td>\n",
              "      <td>-0.911527</td>\n",
              "    </tr>\n",
              "  </tbody>\n",
              "</table>\n",
              "</div>"
            ],
            "text/plain": [
              "   level_0  index     Price  Residential_Area  Air_Quality  Room_Number  \\\n",
              "0        0      0  0.154792         -1.282444    -0.137094     0.408975   \n",
              "1        1      1 -0.106592         -0.590059    -0.733195     0.189974   \n",
              "2        2      2  1.320127         -0.590059    -0.733195     1.276446   \n",
              "3        3      3  1.178544         -1.301354    -0.828226     1.010516   \n",
              "4        4      4  1.483492         -1.301354    -0.828226     1.222407   \n",
              "\n",
              "        Age  Distance  Teachers  Poor_Property  N_Hospital_Beds  \\\n",
              "0 -0.115644  0.172845  1.462167      -1.066368        -1.640299   \n",
              "1  0.369741  0.476100  0.304963      -0.484136        -0.384875   \n",
              "2 -0.260905  0.495053  0.304963      -1.199330        -0.342847   \n",
              "3 -0.802977  1.054179 -0.111631      -1.351886         0.927490   \n",
              "4 -0.505369  1.030487 -0.111631      -1.017382         0.626514   \n",
              "\n",
              "   N_Hotel_Rooms  Rainfall      Sold  \n",
              "0      -0.352111 -1.302068 -0.911527  \n",
              "1      -0.166019  0.215194  1.097060  \n",
              "2      16.710340 -0.104230 -0.911527  \n",
              "3      -0.337843  0.454762 -0.911527  \n",
              "4      -0.333593  1.253320 -0.911527  "
            ]
          },
          "execution_count": 38,
          "metadata": {},
          "output_type": "execute_result"
        }
      ],
      "source": [
        "# Show the data\n",
        "scaled_df.head()"
      ]
    },
    {
      "cell_type": "markdown",
      "id": "de9d8e4d",
      "metadata": {
        "id": "de9d8e4d"
      },
      "source": [
        "### Perform the Concatenate operation\n"
      ]
    },
    {
      "cell_type": "code",
      "execution_count": null,
      "id": "249bd7e3",
      "metadata": {
        "id": "249bd7e3"
      },
      "outputs": [],
      "source": [
        "# concat encoded variable and scaled variable\n",
        "df_independent = pd.concat([df_encoded,scaled_df],axis=1)"
      ]
    },
    {
      "cell_type": "code",
      "execution_count": null,
      "id": "fbe8166f",
      "metadata": {
        "id": "fbe8166f",
        "outputId": "e99fa334-7123-4368-f74a-2e5061a1cb96"
      },
      "outputs": [
        {
          "data": {
            "text/html": [
              "<div>\n",
              "<style scoped>\n",
              "    .dataframe tbody tr th:only-of-type {\n",
              "        vertical-align: middle;\n",
              "    }\n",
              "\n",
              "    .dataframe tbody tr th {\n",
              "        vertical-align: top;\n",
              "    }\n",
              "\n",
              "    .dataframe thead th {\n",
              "        text-align: right;\n",
              "    }\n",
              "</style>\n",
              "<table border=\"1\" class=\"dataframe\">\n",
              "  <thead>\n",
              "    <tr style=\"text-align: right;\">\n",
              "      <th></th>\n",
              "      <th>index</th>\n",
              "      <th>Airport_NO</th>\n",
              "      <th>Airport_YES</th>\n",
              "      <th>Waterbody_Lake</th>\n",
              "      <th>Waterbody_Lake and River</th>\n",
              "      <th>Waterbody_River</th>\n",
              "      <th>Bus_Ter_YES</th>\n",
              "      <th>level_0</th>\n",
              "      <th>index</th>\n",
              "      <th>Price</th>\n",
              "      <th>...</th>\n",
              "      <th>Air_Quality</th>\n",
              "      <th>Room_Number</th>\n",
              "      <th>Age</th>\n",
              "      <th>Distance</th>\n",
              "      <th>Teachers</th>\n",
              "      <th>Poor_Property</th>\n",
              "      <th>N_Hospital_Beds</th>\n",
              "      <th>N_Hotel_Rooms</th>\n",
              "      <th>Rainfall</th>\n",
              "      <th>Sold</th>\n",
              "    </tr>\n",
              "  </thead>\n",
              "  <tbody>\n",
              "    <tr>\n",
              "      <th>0</th>\n",
              "      <td>0</td>\n",
              "      <td>False</td>\n",
              "      <td>True</td>\n",
              "      <td>False</td>\n",
              "      <td>False</td>\n",
              "      <td>True</td>\n",
              "      <td>True</td>\n",
              "      <td>0</td>\n",
              "      <td>0</td>\n",
              "      <td>0.154792</td>\n",
              "      <td>...</td>\n",
              "      <td>-0.137094</td>\n",
              "      <td>0.408975</td>\n",
              "      <td>-0.115644</td>\n",
              "      <td>0.172845</td>\n",
              "      <td>1.462167</td>\n",
              "      <td>-1.066368</td>\n",
              "      <td>-1.640299</td>\n",
              "      <td>-0.352111</td>\n",
              "      <td>-1.302068</td>\n",
              "      <td>-0.911527</td>\n",
              "    </tr>\n",
              "    <tr>\n",
              "      <th>1</th>\n",
              "      <td>1</td>\n",
              "      <td>True</td>\n",
              "      <td>False</td>\n",
              "      <td>True</td>\n",
              "      <td>False</td>\n",
              "      <td>False</td>\n",
              "      <td>True</td>\n",
              "      <td>1</td>\n",
              "      <td>1</td>\n",
              "      <td>-0.106592</td>\n",
              "      <td>...</td>\n",
              "      <td>-0.733195</td>\n",
              "      <td>0.189974</td>\n",
              "      <td>0.369741</td>\n",
              "      <td>0.476100</td>\n",
              "      <td>0.304963</td>\n",
              "      <td>-0.484136</td>\n",
              "      <td>-0.384875</td>\n",
              "      <td>-0.166019</td>\n",
              "      <td>0.215194</td>\n",
              "      <td>1.097060</td>\n",
              "    </tr>\n",
              "    <tr>\n",
              "      <th>2</th>\n",
              "      <td>2</td>\n",
              "      <td>True</td>\n",
              "      <td>False</td>\n",
              "      <td>False</td>\n",
              "      <td>False</td>\n",
              "      <td>True</td>\n",
              "      <td>True</td>\n",
              "      <td>2</td>\n",
              "      <td>2</td>\n",
              "      <td>1.320127</td>\n",
              "      <td>...</td>\n",
              "      <td>-0.733195</td>\n",
              "      <td>1.276446</td>\n",
              "      <td>-0.260905</td>\n",
              "      <td>0.495053</td>\n",
              "      <td>0.304963</td>\n",
              "      <td>-1.199330</td>\n",
              "      <td>-0.342847</td>\n",
              "      <td>16.710340</td>\n",
              "      <td>-0.104230</td>\n",
              "      <td>-0.911527</td>\n",
              "    </tr>\n",
              "    <tr>\n",
              "      <th>3</th>\n",
              "      <td>3</td>\n",
              "      <td>False</td>\n",
              "      <td>True</td>\n",
              "      <td>True</td>\n",
              "      <td>False</td>\n",
              "      <td>False</td>\n",
              "      <td>True</td>\n",
              "      <td>3</td>\n",
              "      <td>3</td>\n",
              "      <td>1.178544</td>\n",
              "      <td>...</td>\n",
              "      <td>-0.828226</td>\n",
              "      <td>1.010516</td>\n",
              "      <td>-0.802977</td>\n",
              "      <td>1.054179</td>\n",
              "      <td>-0.111631</td>\n",
              "      <td>-1.351886</td>\n",
              "      <td>0.927490</td>\n",
              "      <td>-0.337843</td>\n",
              "      <td>0.454762</td>\n",
              "      <td>-0.911527</td>\n",
              "    </tr>\n",
              "    <tr>\n",
              "      <th>4</th>\n",
              "      <td>4</td>\n",
              "      <td>True</td>\n",
              "      <td>False</td>\n",
              "      <td>True</td>\n",
              "      <td>False</td>\n",
              "      <td>False</td>\n",
              "      <td>True</td>\n",
              "      <td>4</td>\n",
              "      <td>4</td>\n",
              "      <td>1.483492</td>\n",
              "      <td>...</td>\n",
              "      <td>-0.828226</td>\n",
              "      <td>1.222407</td>\n",
              "      <td>-0.505369</td>\n",
              "      <td>1.030487</td>\n",
              "      <td>-0.111631</td>\n",
              "      <td>-1.017382</td>\n",
              "      <td>0.626514</td>\n",
              "      <td>-0.333593</td>\n",
              "      <td>1.253320</td>\n",
              "      <td>-0.911527</td>\n",
              "    </tr>\n",
              "  </tbody>\n",
              "</table>\n",
              "<p>5 rows × 21 columns</p>\n",
              "</div>"
            ],
            "text/plain": [
              "   index  Airport_NO  Airport_YES  Waterbody_Lake  Waterbody_Lake and River  \\\n",
              "0      0       False         True           False                     False   \n",
              "1      1        True        False            True                     False   \n",
              "2      2        True        False           False                     False   \n",
              "3      3       False         True            True                     False   \n",
              "4      4        True        False            True                     False   \n",
              "\n",
              "   Waterbody_River  Bus_Ter_YES  level_0  index     Price  ...  Air_Quality  \\\n",
              "0             True         True        0      0  0.154792  ...    -0.137094   \n",
              "1            False         True        1      1 -0.106592  ...    -0.733195   \n",
              "2             True         True        2      2  1.320127  ...    -0.733195   \n",
              "3            False         True        3      3  1.178544  ...    -0.828226   \n",
              "4            False         True        4      4  1.483492  ...    -0.828226   \n",
              "\n",
              "   Room_Number       Age  Distance  Teachers  Poor_Property  N_Hospital_Beds  \\\n",
              "0     0.408975 -0.115644  0.172845  1.462167      -1.066368        -1.640299   \n",
              "1     0.189974  0.369741  0.476100  0.304963      -0.484136        -0.384875   \n",
              "2     1.276446 -0.260905  0.495053  0.304963      -1.199330        -0.342847   \n",
              "3     1.010516 -0.802977  1.054179 -0.111631      -1.351886         0.927490   \n",
              "4     1.222407 -0.505369  1.030487 -0.111631      -1.017382         0.626514   \n",
              "\n",
              "   N_Hotel_Rooms  Rainfall      Sold  \n",
              "0      -0.352111 -1.302068 -0.911527  \n",
              "1      -0.166019  0.215194  1.097060  \n",
              "2      16.710340 -0.104230 -0.911527  \n",
              "3      -0.337843  0.454762 -0.911527  \n",
              "4      -0.333593  1.253320 -0.911527  \n",
              "\n",
              "[5 rows x 21 columns]"
            ]
          },
          "execution_count": 40,
          "metadata": {},
          "output_type": "execute_result"
        }
      ],
      "source": [
        "# Show the data\n",
        "df_independent.head()"
      ]
    },
    {
      "cell_type": "markdown",
      "id": "04653fcf",
      "metadata": {
        "id": "04653fcf"
      },
      "source": [
        "## Split the data for training and testing"
      ]
    },
    {
      "cell_type": "code",
      "execution_count": null,
      "id": "5c229961",
      "metadata": {
        "id": "5c229961"
      },
      "outputs": [],
      "source": [
        "# import the train test split\n",
        "from sklearn.model_selection import train_test_split\n"
      ]
    },
    {
      "cell_type": "code",
      "execution_count": null,
      "id": "cce7c28c",
      "metadata": {
        "id": "cce7c28c"
      },
      "outputs": [],
      "source": [
        "# split the data\n",
        "x_train,x_test,y_train,y_test=train_test_split(df_independent,\n",
        "                                              df_target,\n",
        "                                              test_size=0.2)"
      ]
    },
    {
      "cell_type": "code",
      "execution_count": null,
      "id": "baf0e974",
      "metadata": {
        "id": "baf0e974",
        "outputId": "eb427822-3793-45fe-8e49-7b6c8d970f9f"
      },
      "outputs": [
        {
          "data": {
            "text/plain": [
              "(398, 21)"
            ]
          },
          "execution_count": 43,
          "metadata": {},
          "output_type": "execute_result"
        }
      ],
      "source": [
        "#check the size\n",
        "x_train.shape"
      ]
    },
    {
      "cell_type": "code",
      "execution_count": null,
      "id": "1a4325f1",
      "metadata": {
        "id": "1a4325f1",
        "outputId": "1eea886a-4a51-4fd8-eb72-3473cf360bd0"
      },
      "outputs": [
        {
          "data": {
            "text/plain": [
              "(100, 21)"
            ]
          },
          "execution_count": 44,
          "metadata": {},
          "output_type": "execute_result"
        }
      ],
      "source": [
        "x_test.shape"
      ]
    },
    {
      "cell_type": "code",
      "execution_count": null,
      "id": "a7dca571",
      "metadata": {
        "id": "a7dca571",
        "outputId": "a68c4726-add3-4b8b-fe17-a003b996380d"
      },
      "outputs": [
        {
          "data": {
            "text/plain": [
              "(398,)"
            ]
          },
          "execution_count": 45,
          "metadata": {},
          "output_type": "execute_result"
        }
      ],
      "source": [
        "y_train.shape"
      ]
    },
    {
      "cell_type": "code",
      "execution_count": null,
      "id": "24b15ada",
      "metadata": {
        "id": "24b15ada",
        "outputId": "76808266-a3b2-4e36-e827-7a7f876d5804"
      },
      "outputs": [
        {
          "data": {
            "text/plain": [
              "(100,)"
            ]
          },
          "execution_count": 46,
          "metadata": {},
          "output_type": "execute_result"
        }
      ],
      "source": [
        "y_test.shape"
      ]
    },
    {
      "cell_type": "markdown",
      "id": "f6a911bc",
      "metadata": {
        "id": "f6a911bc"
      },
      "source": [
        "# Apply Linear Regression"
      ]
    },
    {
      "cell_type": "code",
      "execution_count": null,
      "id": "cba9ad9b",
      "metadata": {
        "id": "cba9ad9b"
      },
      "outputs": [],
      "source": [
        "# import the model\n",
        "from sklearn.linear_model import LinearRegression\n",
        "from sklearn.metrics import mean_squared_error"
      ]
    },
    {
      "cell_type": "code",
      "execution_count": null,
      "id": "119f31d0",
      "metadata": {
        "id": "119f31d0"
      },
      "outputs": [],
      "source": [
        "# initiate the model\n",
        "LR=LinearRegression()"
      ]
    },
    {
      "cell_type": "code",
      "execution_count": null,
      "id": "6ce95494",
      "metadata": {
        "id": "6ce95494"
      },
      "outputs": [],
      "source": [
        "# train the linear regression model\n",
        "model_lr=LR.fit(x_train,y_train)"
      ]
    },
    {
      "cell_type": "code",
      "execution_count": null,
      "id": "d0cea4cc",
      "metadata": {
        "id": "d0cea4cc"
      },
      "outputs": [],
      "source": [
        "# perform the prediction\n",
        "predicted=model_lr.predict(x_test)"
      ]
    },
    {
      "cell_type": "code",
      "execution_count": null,
      "id": "f3929242",
      "metadata": {
        "id": "f3929242",
        "outputId": "36eb3d7e-8b7e-474f-be71-79983dceb5a7"
      },
      "outputs": [
        {
          "data": {
            "text/plain": [
              "array([18.7, 30.1, 36.5,  7.2, 20.3, 22. ,  7.2, 23.7, 43.8, 22.2, 13.1,\n",
              "       21.4, 20.6, 23.2, 48.5, 19.9, 23.9, 15.6, 25.3, 22. , 25.1, 24. ,\n",
              "       15.2, 24.5, 36. , 42.3, 21.4, 21.5, 24.8, 23.7, 24.4, 20.5, 20. ,\n",
              "       50. , 21.7, 32.2, 19. , 10.4, 24.3, 20.7, 24.3, 29.4, 21.7, 14.8,\n",
              "       20.9, 20. , 28.5, 21.9, 19.5, 20.4, 30.8, 13.5, 31.1, 13. , 23. ,\n",
              "       21.1, 19.9, 25.2, 23.6, 14.6, 16.4, 27. , 13.4, 13.9, 19.5, 23.3,\n",
              "       17.4, 11.7, 13.1, 18.4, 27.9, 12.6,  8.1, 17.1, 21.9, 20.6, 15. ,\n",
              "       16.5, 10.5, 19.3, 13.3, 13.6, 27.1, 18. , 14.8, 16.3, 14.9, 34.9,\n",
              "       32. , 46.7, 22.2,  5. , 13.9, 16. ,  8.3, 29.1, 17.6, 19.4, 18.3,\n",
              "       23.4])"
            ]
          },
          "execution_count": 52,
          "metadata": {},
          "output_type": "execute_result"
        }
      ],
      "source": [
        "# show the predicted values\n",
        "predicted"
      ]
    },
    {
      "cell_type": "code",
      "execution_count": null,
      "id": "bfc9bcf7",
      "metadata": {
        "id": "bfc9bcf7",
        "outputId": "7248427b-9e74-4bad-f781-351cf3ed5756"
      },
      "outputs": [
        {
          "data": {
            "text/plain": [
              "60     18.7\n",
              "223    30.1\n",
              "264    36.5\n",
              "415     7.2\n",
              "297    20.3\n",
              "       ... \n",
              "278    29.1\n",
              "244    17.6\n",
              "153    19.4\n",
              "497    18.3\n",
              "73     23.4\n",
              "Name: Price, Length: 100, dtype: float64"
            ]
          },
          "execution_count": 53,
          "metadata": {},
          "output_type": "execute_result"
        }
      ],
      "source": [
        "y_test"
      ]
    },
    {
      "cell_type": "code",
      "execution_count": null,
      "id": "bf5c376f",
      "metadata": {
        "id": "bf5c376f",
        "outputId": "10879909-969b-4d6d-c19b-bec463b2a652"
      },
      "outputs": [
        {
          "data": {
            "text/plain": [
              "0.0"
            ]
          },
          "execution_count": 56,
          "metadata": {},
          "output_type": "execute_result"
        }
      ],
      "source": [
        "# evaluate the model\n",
        "round(mean_squared_error(predicted,y_test),3)"
      ]
    },
    {
      "cell_type": "code",
      "execution_count": null,
      "id": "1c759c19",
      "metadata": {
        "id": "1c759c19"
      },
      "outputs": [],
      "source": []
    }
  ],
  "metadata": {
    "kernelspec": {
      "display_name": "Python 3 (ipykernel)",
      "language": "python",
      "name": "python3"
    },
    "language_info": {
      "codemirror_mode": {
        "name": "ipython",
        "version": 3
      },
      "file_extension": ".py",
      "mimetype": "text/x-python",
      "name": "python",
      "nbconvert_exporter": "python",
      "pygments_lexer": "ipython3",
      "version": "3.11.5"
    },
    "colab": {
      "provenance": []
    }
  },
  "nbformat": 4,
  "nbformat_minor": 5
}